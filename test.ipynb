{
 "cells": [
  {
   "cell_type": "code",
   "execution_count": 10,
   "metadata": {
    "collapsed": true
   },
   "outputs": [],
   "source": [
    "test_file = open('test.txt', 'r')"
   ]
  },
  {
   "cell_type": "code",
   "execution_count": 11,
   "metadata": {},
   "outputs": [],
   "source": [
    "content = '' \n",
    "for i in test_file:\n",
    "    content = content + i"
   ]
  },
  {
   "cell_type": "code",
   "execution_count": 12,
   "metadata": {},
   "outputs": [
    {
     "data": {
      "text/plain": [
       "'彭万里、高大山、谢大海、马宏宇、林莽、黄强辉、章汉夫、范长江、林君雄、谭平山、朱希亮、李四光、甘铁生、张伍、马继祖、程孝先、宗敬先、年广嗣、汤绍箕、吕显祖、何光宗、孙念祖、马建国、节振国、冯兴国、郝爱民、于学忠、马连良、胡宝善、李宗仁、洪学智、余克勤、吴克俭、杨惟义、李文信、王德茂、李书诚、杨勇、高尚德、刁富贵、汤念祖、吕奉先、何光宗、冷德友、安怡孙、贾德善、蔡德霖、关仁、郑义贾怡孙天民、赵大华、赵进喜、赵德荣、赵德茂、钱汉祥、钱运高、钱生禄、孙寿康、孙应吉、孙顺达、李秉贵、李厚福、李开富、王子久、刘永生、刘宝瑞、关玉和、王仁兴、李际泰、罗元发、刘造时、刘乃超、刘长胜、张成基、张国柱、张志远、张广才、吕德榜、吕文达、吴家栋、吴国梁、吴立功、李大江、张石山、王海、孙旭诚、孙荣廷、孙宏坤、孙邦原、孙膑、白起、赵牧、廉颇、王翦、韩信、项羽、彭越、李广、卫青、霍去病、李勇、李陵、郭子仪、岳飞、韩世忠、戚继光、袁崇焕'"
      ]
     },
     "execution_count": 12,
     "metadata": {},
     "output_type": "execute_result"
    }
   ],
   "source": [
    "content"
   ]
  },
  {
   "cell_type": "code",
   "execution_count": 16,
   "metadata": {},
   "outputs": [],
   "source": [
    "content = content.split('、')"
   ]
  },
  {
   "cell_type": "code",
   "execution_count": 18,
   "metadata": {},
   "outputs": [
    {
     "data": {
      "text/plain": [
       "106"
      ]
     },
     "execution_count": 18,
     "metadata": {},
     "output_type": "execute_result"
    }
   ],
   "source": [
    "len(content)"
   ]
  },
  {
   "cell_type": "code",
   "execution_count": null,
   "metadata": {
    "collapsed": true
   },
   "outputs": [],
   "source": []
  }
 ],
 "metadata": {
  "kernelspec": {
   "display_name": "Python 3",
   "language": "python",
   "name": "python3"
  },
  "language_info": {
   "codemirror_mode": {
    "name": "ipython",
    "version": 3
   },
   "file_extension": ".py",
   "mimetype": "text/x-python",
   "name": "python",
   "nbconvert_exporter": "python",
   "pygments_lexer": "ipython3",
   "version": "3.6.3"
  }
 },
 "nbformat": 4,
 "nbformat_minor": 2
}
