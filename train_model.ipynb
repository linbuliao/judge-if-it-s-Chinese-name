{
 "cells": [
  {
   "cell_type": "code",
   "execution_count": 160,
   "metadata": {
    "collapsed": true
   },
   "outputs": [],
   "source": [
    "import keras\n",
    "from keras.layers import Input, Dropout, Dense\n",
    "from keras.models import Model, Sequential, load_model\n",
    "from keras.layers.convolutional import Conv2D\n",
    "from keras.layers.pooling import MaxPool2D\n",
    "from keras.optimizers import Adam\n",
    "from sklearn.preprocessing import LabelEncoder, OneHotEncoder\n",
    "import random\n",
    "import numpy as np\n",
    "import pandas as pd\n",
    "from sklearn import metrics\n",
    "from pandas import DataFrame, Series\n",
    "import pickle"
   ]
  },
  {
   "cell_type": "code",
   "execution_count": 150,
   "metadata": {
    "collapsed": true
   },
   "outputs": [],
   "source": [
    "def randomShuffle(X, Y):\n",
    "    idx = [t for t in range(X.shape[0])]\n",
    "    random.shuffle(idx)\n",
    "    X = X[idx]\n",
    "    Y = Y[idx]\n",
    "    print()\n",
    "    print('-' * 36)\n",
    "    print('dimension of X after synthesis:', X.shape)\n",
    "    print('dimension of Y after synthesis', Y.shape)\n",
    "    print('label after shuffle:', '\\n', DataFrame(Y).head())\n",
    "    print('-' * 36)\n",
    "    return X, Y\n",
    "\n",
    "def aucJ(true_labels, predictions):\n",
    "    \n",
    "    fpr, tpr, thresholds = metrics.roc_curve(true_labels, predictions, pos_label=1)\n",
    "    auc = metrics.auc(fpr,tpr)\n",
    "\n",
    "    return auc\n",
    "\n",
    "def acc(true, pred):\n",
    "    \n",
    "    return np.sum(true == pred) * 1.0 / len(true)\n",
    "\n",
    "\n",
    "def assess(model, X, label, thre = 0.5):\n",
    "    \n",
    "    threshold = thre\n",
    "    \n",
    "    pred = model.predict(X)\n",
    "    pred = pred.flatten()\n",
    "    \n",
    "    pred[pred > threshold] = 1\n",
    "    pred[pred <= threshold] = 0\n",
    "    \n",
    "    auc = aucJ(label, pred)\n",
    "    accuracy = acc(label, pred)\n",
    "    \n",
    "    print('auc: ', auc)\n",
    "    print('accuracy: ', accuracy)\n",
    "    \n",
    "def save_obj(obj, name ):\n",
    "    with open('obj/'+ name + '.pkl', 'wb') as f:\n",
    "        pickle.dump(obj, f, pickle.HIGHEST_PROTOCOL)\n",
    "\n",
    "def load_obj(name ):\n",
    "    with open('obj/' + name + '.pkl', 'rb') as f:\n",
    "        return pickle.load(f)"
   ]
  },
  {
   "cell_type": "markdown",
   "metadata": {},
   "source": [
    "## load_data and preprocess"
   ]
  },
  {
   "cell_type": "code",
   "execution_count": 110,
   "metadata": {},
   "outputs": [
    {
     "name": "stdout",
     "output_type": "stream",
     "text": [
      "\n",
      "------------------------------------\n",
      "dimension of X after synthesis: (1213954, 1)\n",
      "dimension of Y after synthesis (1213954,)\n",
      "label after shuffle: \n",
      "      0\n",
      "0  1.0\n",
      "1  1.0\n",
      "2  1.0\n",
      "3  1.0\n",
      "4  1.0\n",
      "------------------------------------\n"
     ]
    }
   ],
   "source": [
    "names = pd.read_csv('names.csv', header = None, encoding='gbk')\n",
    "non_names = pd.read_csv('non_names.csv', header = None, encoding='gbk')\n",
    "\n",
    "pos_label= np.ones(len(names))\n",
    "neg_label= np.zeros(len(non_names))\n",
    "\n",
    "data = np.array(pd.concat((names, non_names)))\n",
    "label = np.hstack((pos_label, neg_label))\n",
    "\n",
    "data, label = randomShuffle(data, label)"
   ]
  },
  {
   "cell_type": "code",
   "execution_count": 111,
   "metadata": {
    "collapsed": true
   },
   "outputs": [],
   "source": [
    "corpus = []\n",
    "for i in range(data.shape[0]):\n",
    "    corpus.extend(list(data[i][0]))\n",
    "    \n",
    "str2num = LabelEncoder().fit(corpus)\n",
    "corpus = str2num.transform(corpus)\n",
    "num2one = OneHotEncoder().fit(corpus.reshape(-1, 1))"
   ]
  },
  {
   "cell_type": "code",
   "execution_count": 112,
   "metadata": {
    "collapsed": true
   },
   "outputs": [],
   "source": [
    "Max_length = Series(data.flatten()).str.len().max()"
   ]
  },
  {
   "cell_type": "code",
   "execution_count": 113,
   "metadata": {
    "collapsed": true
   },
   "outputs": [],
   "source": [
    "data_t = Series(data.flatten()).str.ljust(Max_length, fillchar='|')"
   ]
  },
  {
   "cell_type": "code",
   "execution_count": 114,
   "metadata": {
    "collapsed": true
   },
   "outputs": [],
   "source": [
    "chars = sorted(list(set(''.join(data_t.values.flatten()))))"
   ]
  },
  {
   "cell_type": "code",
   "execution_count": 115,
   "metadata": {
    "collapsed": true
   },
   "outputs": [],
   "source": [
    "char_idx = dict((c, i) for i, c in enumerate(chars))\n",
    "idx_char = dict((i, c) for i, c in enumerate(chars))"
   ]
  },
  {
   "cell_type": "code",
   "execution_count": 116,
   "metadata": {
    "collapsed": true
   },
   "outputs": [],
   "source": [
    "def dimX(X, ts, char_idx, chars):\n",
    "    \n",
    "    temp = np.zeros((len(X), ts, len(chars)), dtype=np.bool)\n",
    "    for i, c in enumerate(X):\n",
    "        for j, s in enumerate(c):\n",
    "            # print i, j, s\n",
    "            temp[i, j, char_idx[s]] = 1\n",
    "            \n",
    "    return np.array(temp)"
   ]
  },
  {
   "cell_type": "code",
   "execution_count": 117,
   "metadata": {
    "collapsed": true
   },
   "outputs": [],
   "source": [
    "X = dimX(data_t, Max_length, char_idx, chars)\n",
    "Y = label"
   ]
  },
  {
   "cell_type": "code",
   "execution_count": 118,
   "metadata": {},
   "outputs": [
    {
     "name": "stdout",
     "output_type": "stream",
     "text": [
      "(1000000, 4, 5201, 1) (1000000,)\n",
      "(213954, 4, 5201, 1) (213954,)\n"
     ]
    }
   ],
   "source": [
    "train_X = X[:1000000, :, :, np.newaxis]\n",
    "valid_X = X[1000000:, :, :, np.newaxis]\n",
    "train_Y = Y[:1000000]\n",
    "valid_Y = Y[1000000:]\n",
    "print(train_X.shape, train_Y.shape)\n",
    "print(valid_X.shape, valid_Y.shape)"
   ]
  },
  {
   "cell_type": "markdown",
   "metadata": {},
   "source": [
    "## CNN"
   ]
  },
  {
   "cell_type": "code",
   "execution_count": 119,
   "metadata": {
    "collapsed": true
   },
   "outputs": [],
   "source": [
    "drop_out = 0.1\n",
    "model1 = Sequential()\n",
    "\n",
    "model1.add(Conv2D(filters = 32, kernel_size = 5,padding = 'Same', \n",
    "                 activation ='relu', input_shape = (4, 5201, 1)))\n",
    "model1.add(Conv2D(filters = 32, kernel_size = 5,padding = 'Same', \n",
    "                 activation ='relu'))\n",
    "model1.add(MaxPool2D(pool_size=2, strides = 2, padding= 'Same'))\n",
    "\n",
    "if drop_out != 0:\n",
    "    model1.add(Dropout(drop_out))\n",
    "\n",
    "\n",
    "model1.add(Conv2D(filters = 64, kernel_size = 3,padding = 'Same', \n",
    "                 activation ='relu'))\n",
    "model1.add(Conv2D(filters = 64, kernel_size = 3,padding = 'Same', \n",
    "                 activation ='relu'))\n",
    "model1.add(MaxPool2D(pool_size= 2, strides=2, padding = 'Same'))\n",
    "\n",
    "if drop_out != 0:\n",
    "    model1.add(Dropout(drop_out))\n",
    "\n",
    "\n",
    "model1.add(Flatten())\n",
    "model1.add(Dense(256, activation = \"relu\"))\n",
    "\n",
    "if drop_out != 0:\n",
    "    model1.add(Dropout(drop_out))\n",
    "    \n",
    "model1.add(Dense(1, activation = \"sigmoid\"))"
   ]
  },
  {
   "cell_type": "code",
   "execution_count": 121,
   "metadata": {
    "collapsed": true
   },
   "outputs": [],
   "source": [
    "model1.compile(optimizer = 'Adam', loss = 'binary_crossentropy', metrics = ['accuracy'])"
   ]
  },
  {
   "cell_type": "code",
   "execution_count": 126,
   "metadata": {},
   "outputs": [
    {
     "name": "stdout",
     "output_type": "stream",
     "text": [
      "Train on 1000000 samples, validate on 213954 samples\n",
      "Epoch 1/100\n"
     ]
    },
    {
     "ename": "KeyboardInterrupt",
     "evalue": "",
     "output_type": "error",
     "traceback": [
      "\u001b[0;31m---------------------------------------------------------------------------\u001b[0m",
      "\u001b[0;31mKeyboardInterrupt\u001b[0m                         Traceback (most recent call last)",
      "\u001b[0;32m<ipython-input-126-fa414a2e0e53>\u001b[0m in \u001b[0;36m<module>\u001b[0;34m()\u001b[0m\n\u001b[1;32m      1\u001b[0m model1.fit(train_X, train_Y, batch_size = 256, epochs = 100\n\u001b[1;32m      2\u001b[0m           \u001b[0;34m,\u001b[0m \u001b[0mverbose\u001b[0m \u001b[0;34m=\u001b[0m \u001b[0;36m2\u001b[0m\u001b[0;34m\u001b[0m\u001b[0m\n\u001b[0;32m----> 3\u001b[0;31m           , validation_data = (valid_X, valid_Y))\n\u001b[0m",
      "\u001b[0;32m/home/amax/anaconda3/lib/python3.6/site-packages/keras/engine/training.py\u001b[0m in \u001b[0;36mfit\u001b[0;34m(self, x, y, batch_size, epochs, verbose, callbacks, validation_split, validation_data, shuffle, class_weight, sample_weight, initial_epoch, steps_per_epoch, validation_steps, **kwargs)\u001b[0m\n\u001b[1;32m   1037\u001b[0m                                         \u001b[0minitial_epoch\u001b[0m\u001b[0;34m=\u001b[0m\u001b[0minitial_epoch\u001b[0m\u001b[0;34m,\u001b[0m\u001b[0;34m\u001b[0m\u001b[0m\n\u001b[1;32m   1038\u001b[0m                                         \u001b[0msteps_per_epoch\u001b[0m\u001b[0;34m=\u001b[0m\u001b[0msteps_per_epoch\u001b[0m\u001b[0;34m,\u001b[0m\u001b[0;34m\u001b[0m\u001b[0m\n\u001b[0;32m-> 1039\u001b[0;31m                                         validation_steps=validation_steps)\n\u001b[0m\u001b[1;32m   1040\u001b[0m \u001b[0;34m\u001b[0m\u001b[0m\n\u001b[1;32m   1041\u001b[0m     def evaluate(self, x=None, y=None,\n",
      "\u001b[0;32m/home/amax/anaconda3/lib/python3.6/site-packages/keras/engine/training_arrays.py\u001b[0m in \u001b[0;36mfit_loop\u001b[0;34m(model, f, ins, out_labels, batch_size, epochs, verbose, callbacks, val_f, val_ins, shuffle, callback_metrics, initial_epoch, steps_per_epoch, validation_steps)\u001b[0m\n\u001b[1;32m    197\u001b[0m                     \u001b[0mins_batch\u001b[0m\u001b[0;34m[\u001b[0m\u001b[0mi\u001b[0m\u001b[0;34m]\u001b[0m \u001b[0;34m=\u001b[0m \u001b[0mins_batch\u001b[0m\u001b[0;34m[\u001b[0m\u001b[0mi\u001b[0m\u001b[0;34m]\u001b[0m\u001b[0;34m.\u001b[0m\u001b[0mtoarray\u001b[0m\u001b[0;34m(\u001b[0m\u001b[0;34m)\u001b[0m\u001b[0;34m\u001b[0m\u001b[0m\n\u001b[1;32m    198\u001b[0m \u001b[0;34m\u001b[0m\u001b[0m\n\u001b[0;32m--> 199\u001b[0;31m                 \u001b[0mouts\u001b[0m \u001b[0;34m=\u001b[0m \u001b[0mf\u001b[0m\u001b[0;34m(\u001b[0m\u001b[0mins_batch\u001b[0m\u001b[0;34m)\u001b[0m\u001b[0;34m\u001b[0m\u001b[0m\n\u001b[0m\u001b[1;32m    200\u001b[0m                 \u001b[0mouts\u001b[0m \u001b[0;34m=\u001b[0m \u001b[0mto_list\u001b[0m\u001b[0;34m(\u001b[0m\u001b[0mouts\u001b[0m\u001b[0;34m)\u001b[0m\u001b[0;34m\u001b[0m\u001b[0m\n\u001b[1;32m    201\u001b[0m                 \u001b[0;32mfor\u001b[0m \u001b[0ml\u001b[0m\u001b[0;34m,\u001b[0m \u001b[0mo\u001b[0m \u001b[0;32min\u001b[0m \u001b[0mzip\u001b[0m\u001b[0;34m(\u001b[0m\u001b[0mout_labels\u001b[0m\u001b[0;34m,\u001b[0m \u001b[0mouts\u001b[0m\u001b[0;34m)\u001b[0m\u001b[0;34m:\u001b[0m\u001b[0;34m\u001b[0m\u001b[0m\n",
      "\u001b[0;32m/home/amax/anaconda3/lib/python3.6/site-packages/keras/backend/tensorflow_backend.py\u001b[0m in \u001b[0;36m__call__\u001b[0;34m(self, inputs)\u001b[0m\n\u001b[1;32m   2713\u001b[0m                 \u001b[0;32mreturn\u001b[0m \u001b[0mself\u001b[0m\u001b[0;34m.\u001b[0m\u001b[0m_legacy_call\u001b[0m\u001b[0;34m(\u001b[0m\u001b[0minputs\u001b[0m\u001b[0;34m)\u001b[0m\u001b[0;34m\u001b[0m\u001b[0m\n\u001b[1;32m   2714\u001b[0m \u001b[0;34m\u001b[0m\u001b[0m\n\u001b[0;32m-> 2715\u001b[0;31m             \u001b[0;32mreturn\u001b[0m \u001b[0mself\u001b[0m\u001b[0;34m.\u001b[0m\u001b[0m_call\u001b[0m\u001b[0;34m(\u001b[0m\u001b[0minputs\u001b[0m\u001b[0;34m)\u001b[0m\u001b[0;34m\u001b[0m\u001b[0m\n\u001b[0m\u001b[1;32m   2716\u001b[0m         \u001b[0;32melse\u001b[0m\u001b[0;34m:\u001b[0m\u001b[0;34m\u001b[0m\u001b[0m\n\u001b[1;32m   2717\u001b[0m             \u001b[0;32mif\u001b[0m \u001b[0mpy_any\u001b[0m\u001b[0;34m(\u001b[0m\u001b[0mis_tensor\u001b[0m\u001b[0;34m(\u001b[0m\u001b[0mx\u001b[0m\u001b[0;34m)\u001b[0m \u001b[0;32mfor\u001b[0m \u001b[0mx\u001b[0m \u001b[0;32min\u001b[0m \u001b[0minputs\u001b[0m\u001b[0;34m)\u001b[0m\u001b[0;34m:\u001b[0m\u001b[0;34m\u001b[0m\u001b[0m\n",
      "\u001b[0;32m/home/amax/anaconda3/lib/python3.6/site-packages/keras/backend/tensorflow_backend.py\u001b[0m in \u001b[0;36m_call\u001b[0;34m(self, inputs)\u001b[0m\n\u001b[1;32m   2673\u001b[0m             \u001b[0mfetched\u001b[0m \u001b[0;34m=\u001b[0m \u001b[0mself\u001b[0m\u001b[0;34m.\u001b[0m\u001b[0m_callable_fn\u001b[0m\u001b[0;34m(\u001b[0m\u001b[0;34m*\u001b[0m\u001b[0marray_vals\u001b[0m\u001b[0;34m,\u001b[0m \u001b[0mrun_metadata\u001b[0m\u001b[0;34m=\u001b[0m\u001b[0mself\u001b[0m\u001b[0;34m.\u001b[0m\u001b[0mrun_metadata\u001b[0m\u001b[0;34m)\u001b[0m\u001b[0;34m\u001b[0m\u001b[0m\n\u001b[1;32m   2674\u001b[0m         \u001b[0;32melse\u001b[0m\u001b[0;34m:\u001b[0m\u001b[0;34m\u001b[0m\u001b[0m\n\u001b[0;32m-> 2675\u001b[0;31m             \u001b[0mfetched\u001b[0m \u001b[0;34m=\u001b[0m \u001b[0mself\u001b[0m\u001b[0;34m.\u001b[0m\u001b[0m_callable_fn\u001b[0m\u001b[0;34m(\u001b[0m\u001b[0;34m*\u001b[0m\u001b[0marray_vals\u001b[0m\u001b[0;34m)\u001b[0m\u001b[0;34m\u001b[0m\u001b[0m\n\u001b[0m\u001b[1;32m   2676\u001b[0m         \u001b[0;32mreturn\u001b[0m \u001b[0mfetched\u001b[0m\u001b[0;34m[\u001b[0m\u001b[0;34m:\u001b[0m\u001b[0mlen\u001b[0m\u001b[0;34m(\u001b[0m\u001b[0mself\u001b[0m\u001b[0;34m.\u001b[0m\u001b[0moutputs\u001b[0m\u001b[0;34m)\u001b[0m\u001b[0;34m]\u001b[0m\u001b[0;34m\u001b[0m\u001b[0m\n\u001b[1;32m   2677\u001b[0m \u001b[0;34m\u001b[0m\u001b[0m\n",
      "\u001b[0;32m/home/amax/anaconda3/lib/python3.6/site-packages/tensorflow/python/client/session.py\u001b[0m in \u001b[0;36m__call__\u001b[0;34m(self, *args, **kwargs)\u001b[0m\n\u001b[1;32m   1437\u001b[0m           ret = tf_session.TF_SessionRunCallable(\n\u001b[1;32m   1438\u001b[0m               \u001b[0mself\u001b[0m\u001b[0;34m.\u001b[0m\u001b[0m_session\u001b[0m\u001b[0;34m.\u001b[0m\u001b[0m_session\u001b[0m\u001b[0;34m,\u001b[0m \u001b[0mself\u001b[0m\u001b[0;34m.\u001b[0m\u001b[0m_handle\u001b[0m\u001b[0;34m,\u001b[0m \u001b[0margs\u001b[0m\u001b[0;34m,\u001b[0m \u001b[0mstatus\u001b[0m\u001b[0;34m,\u001b[0m\u001b[0;34m\u001b[0m\u001b[0m\n\u001b[0;32m-> 1439\u001b[0;31m               run_metadata_ptr)\n\u001b[0m\u001b[1;32m   1440\u001b[0m         \u001b[0;32mif\u001b[0m \u001b[0mrun_metadata\u001b[0m\u001b[0;34m:\u001b[0m\u001b[0;34m\u001b[0m\u001b[0m\n\u001b[1;32m   1441\u001b[0m           \u001b[0mproto_data\u001b[0m \u001b[0;34m=\u001b[0m \u001b[0mtf_session\u001b[0m\u001b[0;34m.\u001b[0m\u001b[0mTF_GetBuffer\u001b[0m\u001b[0;34m(\u001b[0m\u001b[0mrun_metadata_ptr\u001b[0m\u001b[0;34m)\u001b[0m\u001b[0;34m\u001b[0m\u001b[0m\n",
      "\u001b[0;31mKeyboardInterrupt\u001b[0m: "
     ]
    }
   ],
   "source": [
    "model1.fit(train_X, train_Y, batch_size = 256, epochs = 100\n",
    "          , verbose = 2 \n",
    "          , validation_data = (valid_X, valid_Y))"
   ]
  },
  {
   "cell_type": "markdown",
   "metadata": {},
   "source": [
    "## only use 50,000 name samples"
   ]
  },
  {
   "cell_type": "code",
   "execution_count": 130,
   "metadata": {},
   "outputs": [
    {
     "name": "stdout",
     "output_type": "stream",
     "text": [
      "\n",
      "------------------------------------\n",
      "dimension of X after synthesis: (1181270, 1)\n",
      "dimension of Y after synthesis (1181270,)\n",
      "label after shuffle: \n",
      "      0\n",
      "0  1.0\n",
      "1  1.0\n",
      "2  1.0\n",
      "3  1.0\n",
      "4  1.0\n",
      "------------------------------------\n",
      "\n",
      "------------------------------------\n",
      "dimension of X after synthesis: (82684, 1)\n",
      "dimension of Y after synthesis (82684,)\n",
      "label after shuffle: \n",
      "      0\n",
      "0  1.0\n",
      "1  1.0\n",
      "2  0.0\n",
      "3  1.0\n",
      "4  1.0\n",
      "------------------------------------\n",
      "(82684, 1) (82684,)\n"
     ]
    }
   ],
   "source": [
    "pos_sam_num = 50000\n",
    "\n",
    "names = pd.read_csv('names.csv', header = None, encoding='gbk')\n",
    "pos_label= np.ones(len(names))\n",
    "\n",
    "names, pos_label = randomShuffle(np.array(names), pos_label)\n",
    "names = names[:pos_sam_num, :]\n",
    "pos_label = pos_label[:pos_sam_num]\n",
    "\n",
    "non_names = pd.read_csv('non_names.csv', header = None, encoding='gbk')\n",
    "neg_label= np.zeros(len(non_names))\n",
    "\n",
    "data = np.array(pd.concat((DataFrame(names), non_names)))\n",
    "label = np.hstack((pos_label, neg_label))\n",
    "\n",
    "data, label = randomShuffle(data, label)\n",
    "\n",
    "print(data.shape, label.shape)"
   ]
  },
  {
   "cell_type": "code",
   "execution_count": 131,
   "metadata": {
    "collapsed": true
   },
   "outputs": [],
   "source": [
    "Max_length = Series(data.flatten()).str.len().max()\n",
    "\n",
    "data_t = Series(data.flatten()).str.ljust(Max_length, fillchar='|')\n",
    "\n",
    "chars = sorted(list(set(''.join(data_t.values.flatten()))))"
   ]
  },
  {
   "cell_type": "code",
   "execution_count": 132,
   "metadata": {
    "collapsed": true
   },
   "outputs": [],
   "source": [
    "char_idx = dict((c, i) for i, c in enumerate(chars))\n",
    "idx_char = dict((i, c) for i, c in enumerate(chars))"
   ]
  },
  {
   "cell_type": "code",
   "execution_count": 154,
   "metadata": {
    "collapsed": true
   },
   "outputs": [],
   "source": [
    "save_obj(char_idx, 'model2_c2i')"
   ]
  },
  {
   "cell_type": "code",
   "execution_count": 155,
   "metadata": {
    "collapsed": true
   },
   "outputs": [],
   "source": [
    "t = load_obj('model2_c2i')"
   ]
  },
  {
   "cell_type": "code",
   "execution_count": 157,
   "metadata": {},
   "outputs": [
    {
     "data": {
      "text/plain": [
       "1263"
      ]
     },
     "execution_count": 157,
     "metadata": {},
     "output_type": "execute_result"
    }
   ],
   "source": [
    "t['廖']"
   ]
  },
  {
   "cell_type": "code",
   "execution_count": 133,
   "metadata": {
    "collapsed": true
   },
   "outputs": [],
   "source": [
    "def dimX(X, ts, char_idx, chars):\n",
    "    \n",
    "    temp = np.zeros((len(X), ts, len(chars)), dtype=np.bool)\n",
    "    for i, c in enumerate(X):\n",
    "        for j, s in enumerate(c):\n",
    "            # print i, j, s\n",
    "            temp[i, j, char_idx[s]] = 1\n",
    "            \n",
    "    return np.array(temp)"
   ]
  },
  {
   "cell_type": "code",
   "execution_count": 134,
   "metadata": {},
   "outputs": [
    {
     "name": "stdout",
     "output_type": "stream",
     "text": [
      "(70000, 4, 4726, 1) (70000,)\n",
      "(12684, 4, 4726, 1) (12684,)\n"
     ]
    }
   ],
   "source": [
    "X = dimX(data_t, Max_length, char_idx, chars)\n",
    "Y = label\n",
    "\n",
    "train_X = X[:70000, :, :, np.newaxis]\n",
    "valid_X = X[70000:, :, :, np.newaxis]\n",
    "train_Y = Y[:70000]\n",
    "valid_Y = Y[70000:]\n",
    "print(train_X.shape, train_Y.shape)\n",
    "print(valid_X.shape, valid_Y.shape)"
   ]
  },
  {
   "cell_type": "code",
   "execution_count": 140,
   "metadata": {
    "collapsed": true
   },
   "outputs": [],
   "source": [
    "drop_out = 0.1\n",
    "model2 = Sequential()\n",
    "\n",
    "model2.add(Conv2D(filters = 32, kernel_size = 5,padding = 'Same', \n",
    "                 activation ='relu', input_shape = (4, 4726, 1)))\n",
    "model2.add(Conv2D(filters = 32, kernel_size = 5,padding = 'Same', \n",
    "                 activation ='relu'))\n",
    "model2.add(MaxPool2D(pool_size=2, strides = 2, padding= 'Same'))\n",
    "\n",
    "if drop_out != 0:\n",
    "    model2.add(Dropout(drop_out))\n",
    "\n",
    "\n",
    "model2.add(Conv2D(filters = 64, kernel_size = 3,padding = 'Same', \n",
    "                 activation ='relu'))\n",
    "model2.add(Conv2D(filters = 64, kernel_size = 3,padding = 'Same', \n",
    "                 activation ='relu'))\n",
    "model2.add(MaxPool2D(pool_size= 2, strides=2, padding = 'Same'))\n",
    "\n",
    "if drop_out != 0:\n",
    "    model1.add(Dropout(drop_out))\n",
    "\n",
    "\n",
    "model2.add(Flatten())\n",
    "model2.add(Dense(256, activation = \"relu\"))\n",
    "\n",
    "if drop_out != 0:\n",
    "    model2.add(Dropout(drop_out))\n",
    "    \n",
    "model2.add(Dense(1, activation = \"sigmoid\"))"
   ]
  },
  {
   "cell_type": "code",
   "execution_count": 142,
   "metadata": {
    "collapsed": true
   },
   "outputs": [],
   "source": [
    "model2.compile(optimizer = 'Adam', loss = 'binary_crossentropy', metrics = ['accuracy'])"
   ]
  },
  {
   "cell_type": "code",
   "execution_count": 143,
   "metadata": {},
   "outputs": [
    {
     "name": "stdout",
     "output_type": "stream",
     "text": [
      "Train on 70000 samples, validate on 12684 samples\n",
      "Epoch 1/20\n",
      " - 60s - loss: 0.1480 - acc: 0.9415 - val_loss: 0.0910 - val_acc: 0.9652\n",
      "Epoch 2/20\n",
      " - 55s - loss: 0.0695 - acc: 0.9740 - val_loss: 0.0788 - val_acc: 0.9713\n",
      "Epoch 3/20\n",
      " - 55s - loss: 0.0449 - acc: 0.9835 - val_loss: 0.0735 - val_acc: 0.9740\n",
      "Epoch 4/20\n",
      " - 55s - loss: 0.0288 - acc: 0.9893 - val_loss: 0.0804 - val_acc: 0.9743\n",
      "Epoch 5/20\n",
      " - 55s - loss: 0.0184 - acc: 0.9936 - val_loss: 0.0894 - val_acc: 0.9748\n",
      "Epoch 6/20\n",
      " - 55s - loss: 0.0126 - acc: 0.9956 - val_loss: 0.0939 - val_acc: 0.9751\n",
      "Epoch 7/20\n",
      " - 55s - loss: 0.0099 - acc: 0.9969 - val_loss: 0.0945 - val_acc: 0.9743\n",
      "Epoch 8/20\n",
      " - 55s - loss: 0.0082 - acc: 0.9975 - val_loss: 0.1019 - val_acc: 0.9751\n",
      "Epoch 9/20\n",
      " - 55s - loss: 0.0070 - acc: 0.9979 - val_loss: 0.1114 - val_acc: 0.9737\n",
      "Epoch 10/20\n",
      " - 55s - loss: 0.0067 - acc: 0.9978 - val_loss: 0.1034 - val_acc: 0.9761\n",
      "Epoch 11/20\n",
      " - 55s - loss: 0.0064 - acc: 0.9980 - val_loss: 0.1104 - val_acc: 0.9747\n",
      "Epoch 12/20\n",
      " - 55s - loss: 0.0061 - acc: 0.9980 - val_loss: 0.0985 - val_acc: 0.9751\n",
      "Epoch 13/20\n",
      " - 55s - loss: 0.0062 - acc: 0.9980 - val_loss: 0.0924 - val_acc: 0.9763\n",
      "Epoch 14/20\n",
      " - 55s - loss: 0.0050 - acc: 0.9982 - val_loss: 0.1080 - val_acc: 0.9743\n",
      "Epoch 15/20\n",
      " - 55s - loss: 0.0053 - acc: 0.9982 - val_loss: 0.1083 - val_acc: 0.9749\n",
      "Epoch 16/20\n",
      " - 55s - loss: 0.0053 - acc: 0.9981 - val_loss: 0.1017 - val_acc: 0.9763\n",
      "Epoch 17/20\n",
      " - 55s - loss: 0.0051 - acc: 0.9982 - val_loss: 0.0925 - val_acc: 0.9764\n",
      "Epoch 18/20\n",
      " - 55s - loss: 0.0049 - acc: 0.9981 - val_loss: 0.0921 - val_acc: 0.9766\n",
      "Epoch 19/20\n",
      " - 55s - loss: 0.0047 - acc: 0.9982 - val_loss: 0.1014 - val_acc: 0.9744\n",
      "Epoch 20/20\n",
      " - 55s - loss: 0.0046 - acc: 0.9983 - val_loss: 0.0918 - val_acc: 0.9759\n"
     ]
    },
    {
     "data": {
      "text/plain": [
       "<keras.callbacks.History at 0x7fb5ed773128>"
      ]
     },
     "execution_count": 143,
     "metadata": {},
     "output_type": "execute_result"
    }
   ],
   "source": [
    "model2.fit(train_X, train_Y, batch_size = 512, epochs = 20\n",
    "          , verbose = 2 \n",
    "          , validation_data = (valid_X, valid_Y))"
   ]
  },
  {
   "cell_type": "code",
   "execution_count": 152,
   "metadata": {
    "collapsed": true
   },
   "outputs": [],
   "source": [
    "model2.save('CNN_v2.h5')"
   ]
  },
  {
   "cell_type": "code",
   "execution_count": 151,
   "metadata": {},
   "outputs": [
    {
     "name": "stdout",
     "output_type": "stream",
     "text": [
      "auc:  0.9986408313637744\n",
      "accuracy:  0.9987142857142857\n",
      "auc:  0.9735193137436282\n",
      "accuracy:  0.9758751182592242\n"
     ]
    }
   ],
   "source": [
    "assess(model2, train_X, train_Y)\n",
    "assess(model2, valid_X, valid_Y)"
   ]
  },
  {
   "cell_type": "code",
   "execution_count": 161,
   "metadata": {
    "collapsed": true
   },
   "outputs": [],
   "source": [
    "t = load_model('CNN_v2.h5')"
   ]
  },
  {
   "cell_type": "code",
   "execution_count": 162,
   "metadata": {},
   "outputs": [
    {
     "name": "stdout",
     "output_type": "stream",
     "text": [
      "auc:  0.9986408313637744\n",
      "accuracy:  0.9987142857142857\n",
      "auc:  0.9735193137436282\n",
      "accuracy:  0.9758751182592242\n"
     ]
    }
   ],
   "source": [
    "assess(t, train_X, train_Y)\n",
    "assess(t, valid_X, valid_Y)"
   ]
  },
  {
   "cell_type": "code",
   "execution_count": null,
   "metadata": {
    "collapsed": true
   },
   "outputs": [],
   "source": []
  }
 ],
 "metadata": {
  "kernelspec": {
   "display_name": "Python 3",
   "language": "python",
   "name": "python3"
  },
  "language_info": {
   "codemirror_mode": {
    "name": "ipython",
    "version": 3
   },
   "file_extension": ".py",
   "mimetype": "text/x-python",
   "name": "python",
   "nbconvert_exporter": "python",
   "pygments_lexer": "ipython3",
   "version": "3.6.3"
  }
 },
 "nbformat": 4,
 "nbformat_minor": 2
}
